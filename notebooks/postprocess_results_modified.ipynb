{
 "cells": [
  {
   "cell_type": "code",
   "execution_count": 1,
   "id": "afa01060",
   "metadata": {
    "ExecuteTime": {
     "end_time": "2024-03-04T09:50:26.206509Z",
     "start_time": "2024-03-04T09:50:26.033483Z"
    }
   },
   "outputs": [],
   "source": [
    "%load_ext autoreload\n",
    "%autoreload 2"
   ]
  },
  {
   "cell_type": "code",
   "execution_count": 2,
   "id": "3920350b",
   "metadata": {
    "ExecuteTime": {
     "end_time": "2024-03-04T09:50:35.965436Z",
     "start_time": "2024-03-04T09:50:26.212499Z"
    }
   },
   "outputs": [],
   "source": [
    "%matplotlib inline\n",
    "\n",
    "from pprint import pprint\n",
    "from zen_garden.postprocess.results import Results"
   ]
  },
  {
   "cell_type": "markdown",
   "id": "8b60bf0f",
   "metadata": {},
   "source": [
    "### Working with results of a ZenGarden run\n",
    "\n",
    "This notebook shows some examples on how to handle the results of a `zen-garden` run. It uses the outputs of the tests as examples. Therefore, you need to run the tests via \n",
    "```\n",
    "coverage run --source=\"zen_garden\" -m pytest -v tests/testcases/run_test.py\n",
    "```\n",
    "to get the data."
   ]
  },
  {
   "cell_type": "markdown",
   "id": "5c57a7d1",
   "metadata": {},
   "source": [
    "### Reading in the results\n",
    "\n",
    "The results can be read in using the `Results` class. This will automatically read in all relevant files, independent of the number of scenarios or if the optimization was run with perfect or myopic foresight. However, you should know what type of input you are reading in, as the output of some routines will depend on the type."
   ]
  },
  {
   "cell_type": "code",
   "execution_count": 12,
   "id": "759d7b05",
   "metadata": {
    "ExecuteTime": {
     "end_time": "2024-03-04T10:06:48.430474Z",
     "start_time": "2024-03-04T10:06:48.303764Z"
    }
   },
   "outputs": [
    {
     "ename": "FileNotFoundError",
     "evalue": "[Errno 2] No such file or directory: '../outputs/7_multiple_time_steps_per_year_modified/scenarios.json'",
     "output_type": "error",
     "traceback": [
      "\u001B[1;31m---------------------------------------------------------------------------\u001B[0m",
      "\u001B[1;31mFileNotFoundError\u001B[0m                         Traceback (most recent call last)",
      "Cell \u001B[1;32mIn[12], line 2\u001B[0m\n\u001B[0;32m      1\u001B[0m \u001B[38;5;66;03m# This was run with aggregated time steps and multi-year\u001B[39;00m\n\u001B[1;32m----> 2\u001B[0m res_ts \u001B[38;5;241m=\u001B[39m Results(\u001B[38;5;124m\"\u001B[39m\u001B[38;5;124m../outputs/7_multiple_time_steps_per_year_modified/\u001B[39m\u001B[38;5;124m\"\u001B[39m)\n",
      "File \u001B[1;32mC:\\GitHub\\ZEN-garden\\zen_garden\\postprocess\\results\\results.py:21\u001B[0m, in \u001B[0;36mResults.__init__\u001B[1;34m(self, path)\u001B[0m\n\u001B[0;32m     20\u001B[0m \u001B[38;5;28;01mdef\u001B[39;00m \u001B[38;5;21m__init__\u001B[39m(\u001B[38;5;28mself\u001B[39m, path: \u001B[38;5;28mstr\u001B[39m):\n\u001B[1;32m---> 21\u001B[0m     \u001B[38;5;28mself\u001B[39m\u001B[38;5;241m.\u001B[39msolution_loader: SolutionLoader \u001B[38;5;241m=\u001B[39m MultiHdfLoader(path)\n\u001B[0;32m     22\u001B[0m     \u001B[38;5;28mself\u001B[39m\u001B[38;5;241m.\u001B[39mhas_scenarios \u001B[38;5;241m=\u001B[39m \u001B[38;5;28mlen\u001B[39m(\u001B[38;5;28mself\u001B[39m\u001B[38;5;241m.\u001B[39msolution_loader\u001B[38;5;241m.\u001B[39mscenarios) \u001B[38;5;241m>\u001B[39m \u001B[38;5;241m1\u001B[39m\n\u001B[0;32m     23\u001B[0m     \u001B[38;5;28mself\u001B[39m\u001B[38;5;241m.\u001B[39mhas_rh \u001B[38;5;241m=\u001B[39m \u001B[38;5;28mself\u001B[39m\u001B[38;5;241m.\u001B[39msolution_loader\u001B[38;5;241m.\u001B[39mhas_rh\n",
      "File \u001B[1;32mC:\\GitHub\\ZEN-garden\\zen_garden\\postprocess\\results\\multi_hdf_loader.py:182\u001B[0m, in \u001B[0;36mMultiHdfLoader.__init__\u001B[1;34m(self, path)\u001B[0m\n\u001B[0;32m    180\u001B[0m \u001B[38;5;28;01mdef\u001B[39;00m \u001B[38;5;21m__init__\u001B[39m(\u001B[38;5;28mself\u001B[39m, path: \u001B[38;5;28mstr\u001B[39m) \u001B[38;5;241m-\u001B[39m\u001B[38;5;241m>\u001B[39m \u001B[38;5;28;01mNone\u001B[39;00m:\n\u001B[0;32m    181\u001B[0m     \u001B[38;5;28mself\u001B[39m\u001B[38;5;241m.\u001B[39mpath \u001B[38;5;241m=\u001B[39m path\n\u001B[1;32m--> 182\u001B[0m     \u001B[38;5;28mself\u001B[39m\u001B[38;5;241m.\u001B[39m_scenarios: \u001B[38;5;28mdict\u001B[39m[\u001B[38;5;28mstr\u001B[39m, AbstractScenario] \u001B[38;5;241m=\u001B[39m \u001B[38;5;28mself\u001B[39m\u001B[38;5;241m.\u001B[39m_read_scenarios()\n\u001B[0;32m    183\u001B[0m     \u001B[38;5;28mself\u001B[39m\u001B[38;5;241m.\u001B[39m_components: \u001B[38;5;28mdict\u001B[39m[\u001B[38;5;28mstr\u001B[39m, AbstractComponent] \u001B[38;5;241m=\u001B[39m \u001B[38;5;28mself\u001B[39m\u001B[38;5;241m.\u001B[39m_read_components()\n\u001B[0;32m    184\u001B[0m     \u001B[38;5;28mself\u001B[39m\u001B[38;5;241m.\u001B[39m_series_cache: \u001B[38;5;28mdict\u001B[39m[\u001B[38;5;28mstr\u001B[39m, \u001B[38;5;124m\"\u001B[39m\u001B[38;5;124mpd.Series[Any]\u001B[39m\u001B[38;5;124m\"\u001B[39m] \u001B[38;5;241m=\u001B[39m {}\n",
      "File \u001B[1;32mC:\\GitHub\\ZEN-garden\\zen_garden\\postprocess\\results\\multi_hdf_loader.py:320\u001B[0m, in \u001B[0;36mMultiHdfLoader._read_scenarios\u001B[1;34m(self)\u001B[0m\n\u001B[0;32m    317\u001B[0m scenarios_json_path \u001B[38;5;241m=\u001B[39m os\u001B[38;5;241m.\u001B[39mpath\u001B[38;5;241m.\u001B[39mjoin(\u001B[38;5;28mself\u001B[39m\u001B[38;5;241m.\u001B[39mpath, \u001B[38;5;124m\"\u001B[39m\u001B[38;5;124mscenarios.json\u001B[39m\u001B[38;5;124m\"\u001B[39m)\n\u001B[0;32m    318\u001B[0m ans: \u001B[38;5;28mdict\u001B[39m[\u001B[38;5;28mstr\u001B[39m, AbstractScenario] \u001B[38;5;241m=\u001B[39m {}\n\u001B[1;32m--> 320\u001B[0m \u001B[38;5;28;01mwith\u001B[39;00m \u001B[38;5;28mopen\u001B[39m(scenarios_json_path, \u001B[38;5;124m\"\u001B[39m\u001B[38;5;124mr\u001B[39m\u001B[38;5;124m\"\u001B[39m) \u001B[38;5;28;01mas\u001B[39;00m f:\n\u001B[0;32m    321\u001B[0m     scenario_configs \u001B[38;5;241m=\u001B[39m json\u001B[38;5;241m.\u001B[39mload(f)\n\u001B[0;32m    323\u001B[0m \u001B[38;5;28;01mif\u001B[39;00m \u001B[38;5;28mlen\u001B[39m(scenario_configs) \u001B[38;5;241m==\u001B[39m \u001B[38;5;241m1\u001B[39m:\n",
      "\u001B[1;31mFileNotFoundError\u001B[0m: [Errno 2] No such file or directory: '../outputs/7_multiple_time_steps_per_year_modified/scenarios.json'"
     ]
    }
   ],
   "source": [
    "# This was run with aggregated time steps and multi-year\n",
    "res_ts = Results(\"../outputs/7_multiple_time_steps_per_year_modified/\")\n"
   ]
  },
  {
   "cell_type": "markdown",
   "id": "a4b62c61",
   "metadata": {},
   "source": [
    "### Accessing the config\n",
    "\n",
    "The standard dictionaries, i.e. system, analysis, scenarios, solver and dict_sequence_time_steps can be accessed via the results dict."
   ]
  },
  {
   "cell_type": "code",
   "execution_count": null,
   "id": "31109ec9",
   "metadata": {
    "ExecuteTime": {
     "end_time": "2024-03-04T09:50:41.357486Z",
     "start_time": "2024-03-04T09:50:41.357486Z"
    }
   },
   "outputs": [],
   "source": [
    "# Show the deafult analysis settings\n",
    "pprint(res_basic.results[None][\"analysis\"])\n",
    "# If a scenario analysis has been conducted, the scenario-depending analysis settings can be assessed by using the scenario names\n",
    "pprint(res_scenario.results[\"scenario_1\"][\"analysis\"])"
   ]
  },
  {
   "cell_type": "markdown",
   "source": [
    "### Comparing the configs, parameters and variables of two result files\n",
    "\n",
    "You can compare two result objects by using the `compare_configs`, `compare_model_parameters` and `compare_model_variables` classmethods. This can help you to get a fast overview of where two datasets are different and where the reasons for errors lie."
   ],
   "metadata": {
    "collapsed": false
   },
   "id": "3547a3d7fe883ae"
  },
  {
   "cell_type": "code",
   "execution_count": null,
   "outputs": [],
   "source": [
    "# difference between configs\n",
    "diff_config = Results.compare_configs([res_basic,res_ts])\n",
    "print(diff_config)\n",
    "#since the config is scenario-dependent, a scenario different from the default case can be specified\n",
    "diff_config = Results.compare_configs([res_scenario, res_scenario_2], scenarios=\"scenario_1\")\n",
    "diff_config"
   ],
   "metadata": {
    "collapsed": false,
    "ExecuteTime": {
     "start_time": "2024-03-04T09:50:41.359742Z"
    }
   },
   "id": "24f7f368322b1832"
  },
  {
   "cell_type": "code",
   "execution_count": null,
   "outputs": [],
   "source": [
    "# difference between model params\n",
    "# for larger models, this can take several minutes\n",
    "diff_params = Results.compare_model_parameters([res_ts,res_mf])\n",
    "diff_params"
   ],
   "metadata": {
    "collapsed": false
   },
   "id": "c17212c36a7dd76a"
  },
  {
   "cell_type": "code",
   "execution_count": null,
   "outputs": [],
   "source": [
    "# you can also compare the model variable values. However, even a small change in the input data might have a significant impact on the results, which then leads to large differences in the variable values\n",
    "diff_var = Results.compare_model_variables([res_scenario,res_scenario],scenarios=(\"scenario_2\",\"scenario_4\"))\n",
    "diff_var"
   ],
   "metadata": {
    "collapsed": false
   },
   "id": "214bb989ba75b6ca"
  },
  {
   "cell_type": "markdown",
   "id": "899c758d",
   "metadata": {},
   "source": [
    "### Extracting individual data frames\n",
    "There are three main methods to extract component (parameter and variable) values: `get_total`, `get_full_ts`, and `get_df`. It does not matter if the component is a parameter or a variable.\n",
    "\n",
    "You can get the total value of a component for each year by using `get_total`. The full time series of a component is returned by `get_full_ts`. This reverts the time series aggregation and disaggregates the data. If the selected component is indexed by the years (e.g., `capex` or `capacity`), then the returned data is the same as from `get_total`. If you specify a `year`, only the values for this year are returned. You can select a specific `element_name`, which corresponds to the first level of the index, i.e., generally a technology or a carrier.\n",
    "\n",
    "You can either feed `get_total` and `get_full_ts` a dataframe as returned by `get_df` or specify the component name as a string\n",
    "\n",
    "You can access individual data frames from any component with the `get_df` method. However, the behavior differs slightly for the usecases.\n",
    "If the optimization was run with perfect foresight and no scenarios, then the data frame is returned as `pandas.Series`. For myopic foresight, the final dataframe is stiched together from the relevant outputs if the component is set yearly. If multiple scenarios were run, a dictionary containing the data frame for all different scenarios is returned. However, you can specify the scenario in advance, then only a single data frame is returned.\n",
    "\n",
    "Additionally, the method provides a shortcut to save the extracted dataframe directly to a CSV, or in case of different scenarios to a bundle of CSV files."
   ]
  },
  {
   "cell_type": "code",
   "execution_count": null,
   "id": "a5c033eb",
   "metadata": {
    "ExecuteTime": {
     "start_time": "2024-03-04T09:50:41.365542Z"
    }
   },
   "outputs": [],
   "source": [
    "# This will return a single data frame\n",
    "df = res_ts.get_df('flow_import')\n",
    "df"
   ]
  },
  {
   "cell_type": "code",
   "execution_count": null,
   "id": "8a2646b6",
   "metadata": {
    "ExecuteTime": {
     "start_time": "2024-03-04T09:50:41.367820Z"
    }
   },
   "outputs": [],
   "source": [
    "# We can calculate the total value of the dataframe\n",
    "res_ts.get_total(df)"
   ]
  },
  {
   "cell_type": "code",
   "execution_count": null,
   "outputs": [],
   "source": [
    "# We can also only specify the name\n",
    "res_ts.get_total(\"flow_import\")"
   ],
   "metadata": {
    "collapsed": false,
    "ExecuteTime": {
     "start_time": "2024-03-04T09:50:41.369030Z"
    }
   },
   "id": "24c4061d767d167f"
  },
  {
   "cell_type": "code",
   "execution_count": null,
   "outputs": [],
   "source": [
    "# and also get the full timeseries if we want\n",
    "df_full_ts = res_ts.get_full_ts(\"flow_import\")\n",
    "df_full_ts"
   ],
   "metadata": {
    "collapsed": false,
    "ExecuteTime": {
     "start_time": "2024-03-04T09:50:41.371305Z"
    }
   },
   "id": "f27149a841510ce6"
  },
  {
   "cell_type": "code",
   "execution_count": null,
   "outputs": [],
   "source": [
    "# you can also save the dataframe directly to a csv:\n",
    "df = res_basic.get_df('carbon_emissions_overshoot', to_csv=\"test\")\n",
    "# this prints out the content of the generated csv (use !cat instead of !type if you're using mac or linux)\n",
    "!type test.csv"
   ],
   "metadata": {
    "collapsed": false
   },
   "id": "8ca06446fa8358cc"
  },
  {
   "cell_type": "code",
   "execution_count": null,
   "outputs": [],
   "source": [
    "# if we have multiple scenarios, all dataframe will be returned in a dict\n",
    "df_dict = res_scenario.get_df('flow_export')\n",
    "pprint(df_dict)"
   ],
   "metadata": {
    "collapsed": false,
    "ExecuteTime": {
     "start_time": "2024-03-04T09:50:41.374700Z"
    }
   },
   "id": "9432a16f6de7b6d8"
  },
  {
   "cell_type": "code",
   "execution_count": null,
   "outputs": [],
   "source": [
    "# saving this to a csv will create a file for each scenario\n",
    "df_dict = res_scenario.get_df('flow_export', to_csv=\"test2\")\n",
    "# list files and print content of one\n",
    "!echo \"Generated files: \"\n",
    "#(use !ls instead of !dir for mac and linux)\n",
    "!dir test2*\n",
    "!echo\n",
    "!echo \"Output of test2_scenario_1.csv\"\n",
    "#(again, use !cat for mac or linux)\n",
    "!type test2_scenario_1.csv"
   ],
   "metadata": {
    "collapsed": false
   },
   "id": "65bb1ffa4e943aa2"
  },
  {
   "cell_type": "code",
   "execution_count": null,
   "outputs": [],
   "source": [
    "# we can also specify a specific scenario\n",
    "df = res_scenario.get_df('flow_import', scenario=\"scenario_1\")\n",
    "df"
   ],
   "metadata": {
    "collapsed": false,
    "ExecuteTime": {
     "start_time": "2024-03-04T09:50:41.378903Z"
    }
   },
   "id": "cb0acd5e93bfa6e5"
  },
  {
   "cell_type": "code",
   "execution_count": 9,
   "outputs": [
    {
     "data": {
      "text/plain": "{'none': year\n 0    151.293\n 1    302.586\n 2    453.879\n dtype: float64}"
     },
     "execution_count": 9,
     "metadata": {},
     "output_type": "execute_result"
    }
   ],
   "source": [
    "# This will collect the values from the results folders of the different myopic foresight runs\n",
    "df = res_mf.get_df(\"carbon_emissions_cumulative\")\n",
    "df"
   ],
   "metadata": {
    "collapsed": false,
    "ExecuteTime": {
     "end_time": "2024-03-04T10:03:30.235834Z",
     "start_time": "2024-03-04T10:03:30.141063Z"
    }
   },
   "id": "273c8d13bccc9967"
  },
  {
   "cell_type": "markdown",
   "source": [
    "If you enable the calculation of dual variables (e.g, the marginal cost of production of a carrier as the shadow price of the energy balance) in the config with `solver[\"add_duals\"] = True`, you can use `get_dual` to extract the dual variables. Otherwise, it is skipped. `get_dual` uses `get_full_ts`, thus always returns the full disaggregated time series. You must pass the name of the constraint."
   ],
   "metadata": {
    "collapsed": false
   },
   "id": "345c95dd638331ee"
  },
  {
   "cell_type": "code",
   "execution_count": 10,
   "outputs": [
    {
     "ename": "NameError",
     "evalue": "name 'r' is not defined",
     "output_type": "error",
     "traceback": [
      "\u001B[1;31m---------------------------------------------------------------------------\u001B[0m",
      "\u001B[1;31mNameError\u001B[0m                                 Traceback (most recent call last)",
      "Cell \u001B[1;32mIn[10], line 1\u001B[0m\n\u001B[1;32m----> 1\u001B[0m res_mf\u001B[38;5;241m.\u001B[39mget_dual(\u001B[38;5;124m\"\u001B[39m\u001B[38;5;124mconstraint_nodal_energy_balance\u001B[39m\u001B[38;5;124m\"\u001B[39m)\n",
      "File \u001B[1;32mC:\\GitHub\\ZEN-garden\\zen_garden\\postprocess\\results\\results.py:381\u001B[0m, in \u001B[0;36mResults.get_dual\u001B[1;34m(self, constraint, scenario_name, element_name, year, discount_to_first_step)\u001B[0m\n\u001B[0;32m    365\u001B[0m \u001B[38;5;28;01mdef\u001B[39;00m \u001B[38;5;21mget_dual\u001B[39m(\n\u001B[0;32m    366\u001B[0m     \u001B[38;5;28mself\u001B[39m,\n\u001B[0;32m    367\u001B[0m     constraint: \u001B[38;5;28mstr\u001B[39m,\n\u001B[1;32m   (...)\u001B[0m\n\u001B[0;32m    371\u001B[0m     discount_to_first_step\u001B[38;5;241m=\u001B[39m\u001B[38;5;28;01mTrue\u001B[39;00m,\n\u001B[0;32m    372\u001B[0m ) \u001B[38;5;241m-\u001B[39m\u001B[38;5;241m>\u001B[39m Optional[\u001B[38;5;124m\"\u001B[39m\u001B[38;5;124mpd.DataFrame | pd.Series[Any]\u001B[39m\u001B[38;5;124m\"\u001B[39m]:\n\u001B[0;32m    373\u001B[0m \u001B[38;5;250m    \u001B[39m\u001B[38;5;124;03m\"\"\"extracts the dual variables of a constraint\u001B[39;00m\n\u001B[0;32m    374\u001B[0m \n\u001B[0;32m    375\u001B[0m \u001B[38;5;124;03m    :param constraint: Name of dal\u001B[39;00m\n\u001B[1;32m   (...)\u001B[0m\n\u001B[0;32m    379\u001B[0m \u001B[38;5;124;03m    :param discount_to_first_step: apply annuity to first year of interval or entire interval\u001B[39;00m\n\u001B[0;32m    380\u001B[0m \u001B[38;5;124;03m    \"\"\"\u001B[39;00m\n\u001B[1;32m--> 381\u001B[0m     \u001B[38;5;28;01mif\u001B[39;00m \u001B[38;5;129;01mnot\u001B[39;00m r\u001B[38;5;241m.\u001B[39mget_solver(scenario_name\u001B[38;5;241m=\u001B[39mscenario_name)\u001B[38;5;241m.\u001B[39madd_duals:\n\u001B[0;32m    382\u001B[0m         logging\u001B[38;5;241m.\u001B[39mwarning(\u001B[38;5;124m\"\u001B[39m\u001B[38;5;124mDuals are not calculated. Skip.\u001B[39m\u001B[38;5;124m\"\u001B[39m)\n\u001B[0;32m    383\u001B[0m         \u001B[38;5;28;01mreturn\u001B[39;00m \u001B[38;5;28;01mNone\u001B[39;00m\n",
      "\u001B[1;31mNameError\u001B[0m: name 'r' is not defined"
     ]
    }
   ],
   "source": [
    "res_mf.get_dual(\"constraint_nodal_energy_balance\")"
   ],
   "metadata": {
    "collapsed": false,
    "ExecuteTime": {
     "end_time": "2024-03-04T10:03:34.452191Z",
     "start_time": "2024-03-04T10:03:34.325215Z"
    }
   },
   "id": "30d16b23efe5d6e0"
  },
  {
   "cell_type": "markdown",
   "id": "d93750ec",
   "metadata": {},
   "source": [
    "### How to plot your results\n",
    "\n",
    "The ```Results``` class offers three different plotting functions explained at https://github.com/RRE-ETH/ZEN-garden/discussions/251"
   ]
  },
  {
   "cell_type": "code",
   "execution_count": null,
   "id": "392024c9",
   "metadata": {},
   "outputs": [],
   "source": [
    "#Create the standard plots of your Results object (e.g. res_ts)\n",
    "res_ts.standard_plots()"
   ]
  },
  {
   "cell_type": "code",
   "execution_count": null,
   "id": "02126edf",
   "metadata": {},
   "outputs": [],
   "source": [
    "#Visualise the energy balance at the node Germany for the carrier heat in year 0\n",
    "res_ts.plot_energy_balance(\"DE\",\"heat\",0)\n",
    "#create a zoom-in\n",
    "res_ts.plot_energy_balance(\"DE\", \"heat\", 0, start_hour=int(8760/2), duration=5*24)\n",
    "#save your figure as a pdf(works identically for all three plot functions)(figure is shown anyway)\n",
    "res_ts.plot_energy_balance(\"DE\", \"heat\", 0, start_hour=int(8760/2), duration=5*24, save_fig=True)\n",
    "#save your figure in another format\n",
    "res_ts.plot_energy_balance(\"DE\", \"heat\", 0, start_hour=int(8760/2), duration=5*24, save_fig=True, file_type=\"png\")"
   ]
  },
  {
   "cell_type": "code",
   "execution_count": null,
   "id": "0cc67249",
   "metadata": {
    "ExecuteTime": {
     "start_time": "2024-03-04T09:50:41.388021Z"
    }
   },
   "outputs": [],
   "source": [
    "#Create more customized plots:\n",
    "res_ts.plot(\"flow_conversion_input\")\n",
    "#time adjustments\n",
    "#plot only second year\n",
    "res_ts.plot(\"flow_conversion_input\", year=1)\n",
    "#create zoom-in\n",
    "res_ts.plot(\"flow_conversion_input\", year=1, start_hour=0, duration=500)\n",
    "#use yearly time steps\n",
    "res_ts.plot(\"flow_conversion_input\", yearly=True)"
   ]
  },
  {
   "cell_type": "code",
   "execution_count": 7,
   "id": "2c5b0c3f",
   "metadata": {
    "ExecuteTime": {
     "end_time": "2024-03-04T10:03:11.799123Z",
     "start_time": "2024-03-04T10:03:11.699451Z"
    }
   },
   "outputs": [
    {
     "ename": "NameError",
     "evalue": "name 'res_ts' is not defined",
     "output_type": "error",
     "traceback": [
      "\u001B[1;31m---------------------------------------------------------------------------\u001B[0m",
      "\u001B[1;31mNameError\u001B[0m                                 Traceback (most recent call last)",
      "Cell \u001B[1;32mIn[7], line 1\u001B[0m\n\u001B[1;32m----> 1\u001B[0m res_ts\u001B[38;5;241m.\u001B[39mplot(\u001B[38;5;124m\"\u001B[39m\u001B[38;5;124mcapacity\u001B[39m\u001B[38;5;124m\"\u001B[39m)\n\u001B[0;32m      2\u001B[0m \u001B[38;5;66;03m#data adjustments\u001B[39;00m\n\u001B[0;32m      3\u001B[0m \u001B[38;5;66;03m#plot specific technology type\u001B[39;00m\n\u001B[0;32m      4\u001B[0m res_ts\u001B[38;5;241m.\u001B[39mplot(\u001B[38;5;124m\"\u001B[39m\u001B[38;5;124mcapacity\u001B[39m\u001B[38;5;124m\"\u001B[39m, tech_type\u001B[38;5;241m=\u001B[39m\u001B[38;5;124m\"\u001B[39m\u001B[38;5;124mstorage\u001B[39m\u001B[38;5;124m\"\u001B[39m)\n",
      "\u001B[1;31mNameError\u001B[0m: name 'res_ts' is not defined"
     ]
    }
   ],
   "source": [
    "res_ts.plot(\"capacity\")\n",
    "#data adjustments\n",
    "#plot specific technology type\n",
    "res_ts.plot(\"capacity\", tech_type=\"storage\")\n",
    "#plot charging/discharging capacities\n",
    "res_ts.plot(\"capacity\", tech_type=\"storage_power\")\n",
    "#plot all nodes separately\n",
    "res_ts.plot(\"capacity\", tech_type=\"conversion\", node_edit=\"all\")\n",
    "#plot data of a single node\n",
    "res_ts.plot(\"capacity\", node_edit=\"CH\")"
   ]
  },
  {
   "cell_type": "code",
   "execution_count": null,
   "id": "016017bb",
   "metadata": {},
   "outputs": [],
   "source": [
    "res_ts.plot(\"flow_conversion_output\")\n",
    "#sum technologies of identical output carrier (effect can't really be seen as there is only one tech in the dataset)\n",
    "res_ts.plot(\"flow_conversion_output\", sum_techs=True)\n",
    "#extract technologies of specific reference carrier (effect can't really be seen as there is only one tech in the dataset)\n",
    "res_ts.plot(\"flow_conversion_output\", reference_carrier=\"heat\")"
   ]
  },
  {
   "cell_type": "code",
   "execution_count": null,
   "id": "7d3bfb77",
   "metadata": {
    "ExecuteTime": {
     "start_time": "2024-03-04T09:50:41.394212Z"
    }
   },
   "outputs": [],
   "source": [
    "#create plot of multi-scenario dataset (standard scenario is plotted)\n",
    "res_scenario.plot(\"flow_conversion_input\")\n",
    "#specify another scenario\n",
    "res_scenario.plot(\"flow_conversion_input\", scenario=\"scenario_1\")"
   ]
  },
  {
   "cell_type": "code",
   "execution_count": null,
   "outputs": [],
   "source": [],
   "metadata": {
    "collapsed": false,
    "ExecuteTime": {
     "start_time": "2024-03-04T09:50:41.396248Z"
    }
   },
   "id": "329d07e488659615"
  }
 ],
 "metadata": {
  "kernelspec": {
   "name": "python3",
   "language": "python",
   "display_name": "Python 3 (ipykernel)"
  },
  "language_info": {
   "codemirror_mode": {
    "name": "ipython",
    "version": 3
   },
   "file_extension": ".py",
   "mimetype": "text/x-python",
   "name": "python",
   "nbconvert_exporter": "python",
   "pygments_lexer": "ipython3",
   "version": "3.11.0"
  }
 },
 "nbformat": 4,
 "nbformat_minor": 5
}
